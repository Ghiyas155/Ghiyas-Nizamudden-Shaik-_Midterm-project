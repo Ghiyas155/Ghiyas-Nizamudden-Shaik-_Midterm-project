{
  "cells": [
    {
      "cell_type": "markdown",
      "id": "238ba274-fd18-4ced-91fa-b3705409b275",
      "metadata": {
        "id": "238ba274-fd18-4ced-91fa-b3705409b275"
      },
      "source": [
        "# Student Name: Ghiyas Nizamudden Shaik"
      ]
    },
    {
      "cell_type": "markdown",
      "id": "ce75d861-e98f-4b96-999b-d7a9157ee4de",
      "metadata": {
        "id": "ce75d861-e98f-4b96-999b-d7a9157ee4de"
      },
      "source": [
        "# Instructor Name: Yasser Abduallah"
      ]
    },
    {
      "cell_type": "markdown",
      "id": "078e8e5a-b2d0-4353-a2fa-e8eb71180b6f",
      "metadata": {
        "id": "078e8e5a-b2d0-4353-a2fa-e8eb71180b6f"
      },
      "source": [
        "## C634 Mid Term Project: Implementation of Supervised Data Mining"
      ]
    },
    {
      "cell_type": "markdown",
      "id": "88f053a9-4cc8-4d44-b523-d012ef230c2a",
      "metadata": {
        "id": "88f053a9-4cc8-4d44-b523-d012ef230c2a"
      },
      "source": [
        "#### Note: This programs assumes the following software and packages are installed:\n",
        "\n",
        "`python`: 3.11.7\n",
        "\n",
        "`pandas`: 2.2.3\n",
        "\n",
        "`mlxtend`: 0.23.4"
      ]
    },
    {
      "cell_type": "markdown",
      "id": "fb9833e5-2e96-46c6-b9bd-722bd5cd2da3",
      "metadata": {
        "id": "fb9833e5-2e96-46c6-b9bd-722bd5cd2da3"
      },
      "source": [
        "### Import the required packages"
      ]
    },
    {
      "cell_type": "code",
      "execution_count": null,
      "id": "4ed543f9-c392-43f9-8fe2-c629a3db069c",
      "metadata": {
        "id": "4ed543f9-c392-43f9-8fe2-c629a3db069c"
      },
      "outputs": [],
      "source": [
        "import pandas as pd\n",
        "import time\n",
        "from mlxtend.frequent_patterns import apriori, association_rules\n",
        "pd.set_option('display.max_colwidth', None)"
      ]
    },
    {
      "cell_type": "markdown",
      "id": "31edcfec-d646-4f10-b995-42ff5b2b51c0",
      "metadata": {
        "id": "31edcfec-d646-4f10-b995-42ff5b2b51c0"
      },
      "source": [
        "### List the shops used in the program"
      ]
    },
    {
      "cell_type": "code",
      "execution_count": null,
      "id": "e0c2e129-4a69-465f-975f-1ea24f688b29",
      "metadata": {
        "id": "e0c2e129-4a69-465f-975f-1ea24f688b29"
      },
      "outputs": [],
      "source": [
        "shop_names = [\"fashionhub\",\"grocerymart\",\"sportszone\",\"homessentials\",\"techworld\"]"
      ]
    },
    {
      "cell_type": "markdown",
      "id": "67209726-1cd2-4ea8-9f52-a6d6d0bb46dc",
      "metadata": {
        "id": "67209726-1cd2-4ea8-9f52-a6d6d0bb46dc"
      },
      "source": [
        "### Choosing the database and formatting data"
      ]
    },
    {
      "cell_type": "code",
      "execution_count": null,
      "id": "d314011b-1d79-40e1-a065-2ed966c8d0fd",
      "metadata": {
        "id": "d314011b-1d79-40e1-a065-2ed966c8d0fd",
        "outputId": "c59126c5-eca1-4f80-e021-0750c08dfc4f"
      },
      "outputs": [
        {
          "name": "stdin",
          "output_type": "stream",
          "text": [
            "1. Fashion Hub\n",
            "2. Grocery Mart\n",
            "3. Sports Zone\n",
            "4. Home Essentials\n",
            "5. Tech World\n",
            "Please select shop number from the following options -  2\n"
          ]
        }
      ],
      "source": [
        "# prompt the user for database\n",
        "flag = True\n",
        "while flag:\n",
        "    shop_no = input(\"1. Fashion Hub\\n2. Grocery Mart\\n3. Sports Zone\\n4. Home Essentials\\n5. Tech World\\nPlease select shop number from the following options - \")\n",
        "    try:\n",
        "        shop_no = int(shop_no)\n",
        "        if shop_no in [1,2,3,4,5]:\n",
        "            flag = False\n",
        "        else:\n",
        "            print(f\"{shop_no} is an invalid input! Please select the shop number 1,2,3,4,5.\")\n",
        "    except:\n",
        "        print(f\"{shop_no} is an invalid input! Please select the shop number 1,2,3,4,5.\")\n",
        "\n",
        "\n",
        "data = pd.read_csv(f\"data/{shop_names[shop_no-1]}_trans.csv\",sep=\"|\",index_col=0)\n",
        "\n",
        "# format the data and extract a list of all the items present in the shop\n",
        "def format_data(shop_data):\n",
        "    df = shop_data[\"Transaction\"].str.split(\",\", expand=True).map(lambda x: x.strip() if isinstance(x, str) else x).values\n",
        "    shop_trans = [list(filter(lambda x: x is not None, row)) for row in df]\n",
        "    shop_items = list(frozenset([item for trans in shop_trans for item in trans]))\n",
        "    return {\"items\":shop_items, \"trans\":shop_trans}\n",
        "\n",
        "shop_data = format_data(data)"
      ]
    },
    {
      "cell_type": "markdown",
      "id": "1912562a-4d04-467a-b7dd-e574adbd144f",
      "metadata": {
        "id": "1912562a-4d04-467a-b7dd-e574adbd144f"
      },
      "source": [
        "### Choosing minimum support"
      ]
    },
    {
      "cell_type": "code",
      "execution_count": null,
      "id": "d530ab7a-3717-487b-b70c-ec07402b4e7b",
      "metadata": {
        "id": "d530ab7a-3717-487b-b70c-ec07402b4e7b",
        "outputId": "faed377d-6605-4dee-8a62-286c96ba9929"
      },
      "outputs": [
        {
          "name": "stdin",
          "output_type": "stream",
          "text": [
            "Please provide the minimum support (0,100]-  40\n"
          ]
        }
      ],
      "source": [
        "# prompt the user for minimum support\n",
        "\n",
        "flag = True\n",
        "while flag:\n",
        "    min_support = input(\"Please provide the minimum support (0,100]- \")\n",
        "    try:\n",
        "        min_support = float(min_support)\n",
        "        if min_support <= 100 and min_support > 0:\n",
        "            flag = False\n",
        "        else:\n",
        "            print(f\"{min_support} is an invalid input! Please provide a number in the range (0,100].\")\n",
        "    except:\n",
        "        print(f\"{min_support} is an invalid input! Please provide a number in the range (0,100].\")\n",
        "\n",
        "min_support /= 100"
      ]
    },
    {
      "cell_type": "markdown",
      "id": "82cbf958-774e-44e5-8499-f6fc0f23c8e9",
      "metadata": {
        "id": "82cbf958-774e-44e5-8499-f6fc0f23c8e9"
      },
      "source": [
        "### Choosing minimum confidence"
      ]
    },
    {
      "cell_type": "code",
      "execution_count": null,
      "id": "ec6527fa-7807-4872-afd7-640c20e30ac8",
      "metadata": {
        "id": "ec6527fa-7807-4872-afd7-640c20e30ac8",
        "outputId": "919eaa9a-3fdf-479a-c797-83804b8984b2"
      },
      "outputs": [
        {
          "name": "stdin",
          "output_type": "stream",
          "text": [
            "Please provide the minimum confidence (0,100]-  60\n"
          ]
        }
      ],
      "source": [
        "# get minimum confidence\n",
        "\n",
        "flag = True\n",
        "while flag:\n",
        "    min_conf = input(\"Please provide the minimum confidence (0,100]- \")\n",
        "    try:\n",
        "        min_conf = float(min_conf)\n",
        "        if min_conf <= 100 and min_conf > 0:\n",
        "            flag = False\n",
        "        else:\n",
        "            print(f\"{min_conf} is an invalid input! Please provide a number in the range (0,100].\")\n",
        "    except:\n",
        "        print(f\"{min_conf} is an invalid input! Please provide a number in the range (0,100].\")\n",
        "\n",
        "min_conf /= 100"
      ]
    },
    {
      "cell_type": "markdown",
      "id": "7fcd1b5c-b26e-4af9-ab0a-219295e76f4a",
      "metadata": {
        "id": "7fcd1b5c-b26e-4af9-ab0a-219295e76f4a"
      },
      "source": [
        "### Brute Force Implementation"
      ]
    },
    {
      "cell_type": "code",
      "execution_count": null,
      "id": "365011eb-35e9-497e-a966-03810148575c",
      "metadata": {
        "id": "365011eb-35e9-497e-a966-03810148575c"
      },
      "outputs": [],
      "source": [
        "# returns all the possible combinations of k-length itemsets from the given a list of items\n",
        "\n",
        "def get_combinations(items,k,start=0,subset=None,result=None):\n",
        "    if subset is None:\n",
        "        subset = []\n",
        "    if result is None:\n",
        "        result = []\n",
        "    if len(subset) == k:\n",
        "        result.append(frozenset(subset))\n",
        "        return result\n",
        "\n",
        "    for i in range(start, len(items)):\n",
        "        get_combinations(items, k, i + 1, subset + [items[i]], result)\n",
        "    return result"
      ]
    },
    {
      "cell_type": "code",
      "execution_count": null,
      "id": "e3972566-f0ce-4f1d-80c3-a649943e2718",
      "metadata": {
        "id": "e3972566-f0ce-4f1d-80c3-a649943e2718"
      },
      "outputs": [],
      "source": [
        "# filters the frequent itemsets from the given list of itemsets based on minimum support provided\n",
        "\n",
        "def get_k_freq_itemsets(shop_data,itemsets,min_support):\n",
        "    itemsets_count = {itemset:0 for itemset in itemsets}\n",
        "    for trans in shop_data[\"trans\"]:\n",
        "        for itemset in itemsets:\n",
        "            if itemset.issubset(trans):\n",
        "                itemsets_count[itemset] += 1\n",
        "\n",
        "    result = {itemset:count for itemset,count in itemsets_count.items() if count >= min_support*len(shop_data[\"trans\"])}\n",
        "    return result"
      ]
    },
    {
      "cell_type": "code",
      "execution_count": null,
      "id": "07851ab9-49da-43d9-9be3-49b281b14da1",
      "metadata": {
        "id": "07851ab9-49da-43d9-9be3-49b281b14da1"
      },
      "outputs": [],
      "source": [
        "# iterative approach to generate k-length itemsets and update the frequent itemsets list until there when are no more frequent sets\n",
        "# being generated from the provide possible itemsets\n",
        "\n",
        "def get_freq_itemsets(shop_data,min_support):\n",
        "    freq_itemsets = {}\n",
        "    k = 1\n",
        "\n",
        "    while True:\n",
        "        # generates all possible k-itemsets\n",
        "        k_itemsets = [subset for subset in get_combinations(shop_data[\"items\"],k)]\n",
        "        k_itemsets = list(frozenset(k_itemsets))\n",
        "        print(f\"{k}-itemsets generated: {len(k_itemsets)}\")\n",
        "\n",
        "        # checks to see which itemsets are frequent and stops if an empty list is provided\n",
        "        freq_k_itemsets = get_k_freq_itemsets(shop_data,k_itemsets,min_support)\n",
        "        if not freq_k_itemsets:  # stopping condition\n",
        "            break\n",
        "\n",
        "        freq_itemsets.update(freq_k_itemsets)\n",
        "\n",
        "        prev_itemsets = frozenset(freq_k_itemsets.keys())\n",
        "        k += 1\n",
        "\n",
        "    return freq_itemsets"
      ]
    },
    {
      "cell_type": "code",
      "execution_count": null,
      "id": "d07b5197-657e-4f62-894f-e66de522b2be",
      "metadata": {
        "id": "d07b5197-657e-4f62-894f-e66de522b2be"
      },
      "outputs": [],
      "source": [
        "# generate association rules from the given frequent itemsets based on the minimum confidence provided\n",
        "\n",
        "def get_rules(freq_itemsets,shop_data,min_conf):\n",
        "    assoc_rules = {}\n",
        "\n",
        "    for itemset,support in freq_itemsets.items():\n",
        "        if len(itemset) <= 1:\n",
        "            continue\n",
        "        subsets = [subset for k in range(1,len(itemset)) for subset in get_combinations(list(itemset),k)]\n",
        "        for lhs in subsets:\n",
        "            rhs = itemset - lhs\n",
        "            lhs_support = freq_itemsets[lhs]\n",
        "            conf = support/lhs_support\n",
        "            if conf >= min_conf:\n",
        "                assoc_rules[(lhs,rhs)] = (support,conf)\n",
        "\n",
        "    return assoc_rules"
      ]
    },
    {
      "cell_type": "code",
      "execution_count": null,
      "id": "6ad72b4a-ccb5-409e-89b5-bc77a4f9f92f",
      "metadata": {
        "id": "6ad72b4a-ccb5-409e-89b5-bc77a4f9f92f",
        "outputId": "a4cc0da9-5c13-4893-82a9-b06004f74400"
      },
      "outputs": [
        {
          "name": "stdout",
          "output_type": "stream",
          "text": [
            "1-itemsets generated: 9\n",
            "2-itemsets generated: 36\n",
            "3-itemsets generated: 84\n",
            "4-itemsets generated: 126\n"
          ]
        }
      ],
      "source": [
        "# execute the functions and calculate time\n",
        "\n",
        "start_time1 = time.time()\n",
        "\n",
        "freq_itemsets1 = get_freq_itemsets(shop_data,min_support)\n",
        "assoc_rules1 = get_rules(freq_itemsets1,shop_data,min_conf)\n",
        "\n",
        "end_time1 = time.time()"
      ]
    },
    {
      "cell_type": "code",
      "execution_count": null,
      "id": "50cc4841-f3ed-4d7f-b1ff-f302c37dcec1",
      "metadata": {
        "id": "50cc4841-f3ed-4d7f-b1ff-f302c37dcec1",
        "outputId": "b7c7c6dd-7c6f-406e-94d1-98d59e133b09"
      },
      "outputs": [
        {
          "name": "stdout",
          "output_type": "stream",
          "text": [
            "---------------------------------------------------------------------------------------------------------------------------------------\n",
            "                                   FREQUENT ITEMSETS BRUTE-FORCE (MINIMUM SUPPORT: 40.0%)\n",
            "NO.|                                                                                                         ITEMS |   SUPPORT\t\n",
            "---------------------------------------------------------------------------------------------------------------------------------------\n",
            "  1|                                                                               {'Head First Java 2nd Edition'} | 0.4\t\n",
            "  2|                                                                                        {\"A Beginner's Guide\"} | 0.55\t\n",
            "  3|                                                                   {'Android Programming: The Big Nerd Ranch'} | 0.65\t\n",
            "  4|                                                                                          {'Java For Dummies'} | 0.65\t\n",
            "  5|                                                                              {'Java: The Complete Reference'} | 0.5\t\n",
            "  6|                                                                    {\"A Beginner's Guide\", 'Java For Dummies'} | 0.45\t\n",
            "  7|                                               {'Android Programming: The Big Nerd Ranch', 'Java For Dummies'} | 0.45\t\n",
            "  8|                                                        {'Java: The Complete Reference', \"A Beginner's Guide\"} | 0.45\t\n",
            "  9|                                                          {'Java: The Complete Reference', 'Java For Dummies'} | 0.5\t\n",
            " 10|                                    {'Java: The Complete Reference', 'Java For Dummies', \"A Beginner's Guide\"} | 0.45\t\n",
            "---------------------------------------------------------------------------------------------------------------------------------------\n"
          ]
        }
      ],
      "source": [
        "print(f\"{135*'-'}\")\n",
        "print(f\"{35*' '}FREQUENT ITEMSETS BRUTE-FORCE (MINIMUM SUPPORT: {min_support*100}%)\")\n",
        "print(f\"NO.|{105*' '}ITEMS |   SUPPORT\\t\")\n",
        "print(f\"{135*'-'}\")\n",
        "\n",
        "i=1\n",
        "for itemset,support in freq_itemsets1.items():\n",
        "    items = {item for item in itemset}\n",
        "    print(f\"{' '*(3-len(str(i)))}{i}|{(110-len(str(items)))*' '}{items} | {round(support/len(shop_data['trans']),6)}\\t\")\n",
        "    i += 1\n",
        "print(f\"{135*'-'}\")"
      ]
    },
    {
      "cell_type": "code",
      "execution_count": null,
      "id": "7b9e423f-bb9a-4124-81ce-b22b997bc2dd",
      "metadata": {
        "id": "7b9e423f-bb9a-4124-81ce-b22b997bc2dd",
        "outputId": "623a43a0-0ce1-46af-a95a-e0db20077b5c"
      },
      "outputs": [
        {
          "name": "stdout",
          "output_type": "stream",
          "text": [
            "                                   ASSOCIATION RULES BRUTE-FORCE (MINIMUM CONFIDENCE: 60.0%)\n",
            "\n",
            "\n",
            "  1: {\"A Beginner's Guide\"} -> {'Java For Dummies'}                                                Support: 0.45, Confidence: 0.818182\n",
            "  2: {'Java For Dummies'} -> {\"A Beginner's Guide\"}                                                Support: 0.45, Confidence: 0.692308\n",
            "  3: {'Android Programming: The Big Nerd Ranch'} -> {'Java For Dummies'}                           Support: 0.45, Confidence: 0.692308\n",
            "  4: {'Java For Dummies'} -> {'Android Programming: The Big Nerd Ranch'}                           Support: 0.45, Confidence: 0.692308\n",
            "  5: {'Java: The Complete Reference'} -> {\"A Beginner's Guide\"}                                    Support: 0.45, Confidence: 0.9\n",
            "  6: {\"A Beginner's Guide\"} -> {'Java: The Complete Reference'}                                    Support: 0.45, Confidence: 0.818182\n",
            "  7: {'Java: The Complete Reference'} -> {'Java For Dummies'}                                      Support: 0.5, Confidence: 1.0\n",
            "  8: {'Java For Dummies'} -> {'Java: The Complete Reference'}                                      Support: 0.5, Confidence: 0.769231\n",
            "  9: {'Java: The Complete Reference'} -> {\"A Beginner's Guide\", 'Java For Dummies'}                Support: 0.45, Confidence: 0.9\n",
            " 10: {'Java For Dummies'} -> {'Java: The Complete Reference', \"A Beginner's Guide\"}                Support: 0.45, Confidence: 0.692308\n",
            " 11: {\"A Beginner's Guide\"} -> {'Java: The Complete Reference', 'Java For Dummies'}                Support: 0.45, Confidence: 0.818182\n",
            " 12: {'Java: The Complete Reference', 'Java For Dummies'} -> {\"A Beginner's Guide\"}                Support: 0.45, Confidence: 0.9\n",
            " 13: {'Java: The Complete Reference', \"A Beginner's Guide\"} -> {'Java For Dummies'}                Support: 0.45, Confidence: 1.0\n",
            " 14: {\"A Beginner's Guide\", 'Java For Dummies'} -> {'Java: The Complete Reference'}                Support: 0.45, Confidence: 1.0\n",
            "---------------------------------------------------------------------------------------------------------------------------------------\n"
          ]
        }
      ],
      "source": [
        "print(f\"{35*' '}ASSOCIATION RULES BRUTE-FORCE (MINIMUM CONFIDENCE: {min_conf*100}%)\")\n",
        "print(\"\\n\")\n",
        "i = 1\n",
        "for (lhs,rhs),(support,conf) in assoc_rules1.items():\n",
        "    lhs_items = {item for item in lhs}\n",
        "    rhs_items = {item for item in rhs}\n",
        "    print(f\"{' '*(3-len(str(i)))}{i}: {lhs_items} -> {rhs_items}{(100-len(str(lhs)+str(rhs)))*' '}\\\n",
        "            Support: {round(support/len(shop_data['trans']),6)}, Confidence: {round(conf,6)}\")\n",
        "    i += 1\n",
        "print(f\"{135*'-'}\")"
      ]
    },
    {
      "cell_type": "markdown",
      "id": "261b6473-dda8-4ea9-9e05-11bd7f980d08",
      "metadata": {
        "id": "261b6473-dda8-4ea9-9e05-11bd7f980d08"
      },
      "source": [
        "### Python Package Implementation"
      ]
    },
    {
      "cell_type": "code",
      "execution_count": null,
      "id": "82c83388-5e03-4e8f-b2a7-e7297ba391d9",
      "metadata": {
        "id": "82c83388-5e03-4e8f-b2a7-e7297ba391d9"
      },
      "outputs": [],
      "source": [
        "# structure the data according to package requirements and execute the function\n",
        "\n",
        "df = pd.DataFrame([\n",
        "    {item: True if item in trans else False for item in shop_data[\"items\"]}\n",
        "    for trans in shop_data[\"trans\"]\n",
        "])\n",
        "\n",
        "start_time2 = time.time()\n",
        "\n",
        "freq_itemsets2 = apriori(df, min_support=min_support, use_colnames=True)\n",
        "if not freq_itemsets2.empty:\n",
        "    assoc_rules2 = association_rules(freq_itemsets2, metric=\"confidence\", min_threshold=min_conf)\n",
        "    assoc_rules2 = assoc_rules2.loc[:,[\"antecedents\",\"consequents\",\"support\",\"confidence\"]]\n",
        "else:\n",
        "    assoc_rules2 = pd.DataFrame([],columns=[\"antecedents\",\"consequents\",\"support\",\"confidence\"])\n",
        "\n",
        "end_time2 = time.time()"
      ]
    },
    {
      "cell_type": "code",
      "execution_count": null,
      "id": "27e5c4bd-b167-4524-8edc-aeb5da2570c9",
      "metadata": {
        "id": "27e5c4bd-b167-4524-8edc-aeb5da2570c9",
        "outputId": "ae5c51c4-2929-4310-dfaa-2cfeb218d9cf"
      },
      "outputs": [
        {
          "name": "stdout",
          "output_type": "stream",
          "text": [
            "---------------------------------------------------------------------------------------------------------------------------------------\n",
            "                                   FREQUENT ITEMSETS PY PACKAGE (MINIMUM SUPPORT: 40.0%)\n",
            "NO.|                                                                                                         ITEMS |   SUPPORT\t\n",
            "---------------------------------------------------------------------------------------------------------------------------------------\n",
            "  1|                                                                   {'Android Programming: The Big Nerd Ranch'} | 0.65\t\n",
            "  2|                                                                              {'Java: The Complete Reference'} | 0.5\t\n",
            "  3|                                                                               {'Head First Java 2nd Edition'} | 0.4\t\n",
            "  4|                                                                                        {\"A Beginner's Guide\"} | 0.55\t\n",
            "  5|                                                                                          {'Java For Dummies'} | 0.65\t\n",
            "  6|                                               {'Android Programming: The Big Nerd Ranch', 'Java For Dummies'} | 0.45\t\n",
            "  7|                                                        {'Java: The Complete Reference', \"A Beginner's Guide\"} | 0.45\t\n",
            "  8|                                                          {'Java: The Complete Reference', 'Java For Dummies'} | 0.5\t\n",
            "  9|                                                                    {\"A Beginner's Guide\", 'Java For Dummies'} | 0.45\t\n",
            " 10|                                    {'Java: The Complete Reference', 'Java For Dummies', \"A Beginner's Guide\"} | 0.45\t\n",
            "---------------------------------------------------------------------------------------------------------------------------------------\n"
          ]
        }
      ],
      "source": [
        "print(f\"{135*'-'}\")\n",
        "print(f\"{35*' '}FREQUENT ITEMSETS PY PACKAGE (MINIMUM SUPPORT: {min_support*100}%)\")\n",
        "print(f\"NO.|{105*' '}ITEMS |   SUPPORT\\t\")\n",
        "print(f\"{135*'-'}\")\n",
        "\n",
        "i=1\n",
        "for support,itemset in freq_itemsets2.values:\n",
        "    items = {item for item in itemset}\n",
        "    print(f\"{' '*(3-len(str(i)))}{i}|{(110-len(str(items)))*' '}{items} | {support}\\t\")\n",
        "    i += 1\n",
        "print(f\"{135*'-'}\")"
      ]
    },
    {
      "cell_type": "code",
      "execution_count": null,
      "id": "ddf8a7c7-f7de-4444-85a8-74d25c7951e6",
      "metadata": {
        "id": "ddf8a7c7-f7de-4444-85a8-74d25c7951e6",
        "outputId": "aab14037-16a7-42a7-a6c2-3d2116563c86"
      },
      "outputs": [
        {
          "name": "stdout",
          "output_type": "stream",
          "text": [
            "                                   ASSOCIATION RULES PY PACKAGE (MINIMUM CONFIDENCE: 60.0%)\n",
            "\n",
            "\n",
            "  1: {'Android Programming: The Big Nerd Ranch'} -> {'Java For Dummies'}                           Support: 0.45, Confidence: 0.692308\n",
            "  2: {'Java For Dummies'} -> {'Android Programming: The Big Nerd Ranch'}                           Support: 0.45, Confidence: 0.692308\n",
            "  3: {'Java: The Complete Reference'} -> {\"A Beginner's Guide\"}                                    Support: 0.45, Confidence: 0.9\n",
            "  4: {\"A Beginner's Guide\"} -> {'Java: The Complete Reference'}                                    Support: 0.45, Confidence: 0.818182\n",
            "  5: {'Java: The Complete Reference'} -> {'Java For Dummies'}                                      Support: 0.5, Confidence: 1.0\n",
            "  6: {'Java For Dummies'} -> {'Java: The Complete Reference'}                                      Support: 0.5, Confidence: 0.769231\n",
            "  7: {\"A Beginner's Guide\"} -> {'Java For Dummies'}                                                Support: 0.45, Confidence: 0.818182\n",
            "  8: {'Java For Dummies'} -> {\"A Beginner's Guide\"}                                                Support: 0.45, Confidence: 0.692308\n",
            "  9: {'Java: The Complete Reference', 'Java For Dummies'} -> {\"A Beginner's Guide\"}                Support: 0.45, Confidence: 0.9\n",
            " 10: {'Java: The Complete Reference', \"A Beginner's Guide\"} -> {'Java For Dummies'}                Support: 0.45, Confidence: 1.0\n",
            " 11: {\"A Beginner's Guide\", 'Java For Dummies'} -> {'Java: The Complete Reference'}                Support: 0.45, Confidence: 1.0\n",
            " 12: {'Java: The Complete Reference'} -> {\"A Beginner's Guide\", 'Java For Dummies'}                Support: 0.45, Confidence: 0.9\n",
            " 13: {'Java For Dummies'} -> {'Java: The Complete Reference', \"A Beginner's Guide\"}                Support: 0.45, Confidence: 0.692308\n",
            " 14: {\"A Beginner's Guide\"} -> {'Java: The Complete Reference', 'Java For Dummies'}                Support: 0.45, Confidence: 0.818182\n",
            "---------------------------------------------------------------------------------------------------------------------------------------\n"
          ]
        }
      ],
      "source": [
        "print(f\"{35*' '}ASSOCIATION RULES PY PACKAGE (MINIMUM CONFIDENCE: {min_conf*100}%)\")\n",
        "print(\"\\n\")\n",
        "i = 1\n",
        "for lhs,rhs,support,conf in assoc_rules2.values:\n",
        "    lhs_items = {item for item in lhs}\n",
        "    rhs_items = {item for item in rhs}\n",
        "    print(f\"{' '*(3-len(str(i)))}{i}: {lhs_items} -> {rhs_items}{(100-len(str(lhs)+str(rhs)))*' '}\\\n",
        "            Support: {round(support,6)}, Confidence: {round(conf,6)}\")\n",
        "    i += 1\n",
        "print(f\"{135*'-'}\")"
      ]
    },
    {
      "cell_type": "markdown",
      "id": "6b74f6c5-f07c-4b11-b80d-cd9a446002f7",
      "metadata": {
        "id": "6b74f6c5-f07c-4b11-b80d-cd9a446002f7"
      },
      "source": [
        "### Time Comparison"
      ]
    },
    {
      "cell_type": "code",
      "execution_count": null,
      "id": "ab919fe1-7d45-40d4-b2b4-f8cfd30a9c38",
      "metadata": {
        "id": "ab919fe1-7d45-40d4-b2b4-f8cfd30a9c38",
        "outputId": "b72ccdba-b39e-46a5-ee10-db63222f371c"
      },
      "outputs": [
        {
          "name": "stdout",
          "output_type": "stream",
          "text": [
            "Time taken to run the brute force algorithm is 0.001495s.\n",
            "Time taken to run the python package is 0.007344s.\n"
          ]
        }
      ],
      "source": [
        "print(f\"Time taken to run the brute force algorithm is {round(end_time1-start_time1,6)}s.\")\n",
        "print(f\"Time taken to run the python package is {round(end_time2-start_time2,6)}s.\")"
      ]
    }
  ],
  "metadata": {
    "kernelspec": {
      "display_name": "Python [conda env:base] *",
      "language": "python",
      "name": "conda-base-py"
    },
    "language_info": {
      "codemirror_mode": {
        "name": "ipython",
        "version": 3
      },
      "file_extension": ".py",
      "mimetype": "text/x-python",
      "name": "python",
      "nbconvert_exporter": "python",
      "pygments_lexer": "ipython3",
      "version": "3.11.7"
    },
    "colab": {
      "provenance": []
    }
  },
  "nbformat": 4,
  "nbformat_minor": 5
}